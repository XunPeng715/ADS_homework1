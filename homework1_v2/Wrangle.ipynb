{
 "cells": [
  {
   "cell_type": "code",
   "execution_count": 1,
   "metadata": {
    "collapsed": true
   },
   "outputs": [],
   "source": [
    "import json\n",
    "import urllib.request\n",
    "import time\n",
    "from datetime import timedelta\n",
    "import boto3\n",
    "import logging\n",
    "\n",
    "filename = 'configWrangle.json'\n",
    "\n",
    "with open(filename, \"r\") as jsonFile:\n",
    "    data = json.load(jsonFile)\n",
    "\n",
    "# data[\"link\"] = \"New link1\"\n",
    "state = data['state']\n",
    "team = data['team']\n",
    "AWSAccess = data['AWSAccess']\n",
    "AWSSecret = data['AWSSecret']\n",
    "\n"
   ]
  },
  {
   "cell_type": "code",
   "execution_count": 2,
   "metadata": {
    "collapsed": false
   },
   "outputs": [
    {
     "name": "stderr",
     "output_type": "stream",
     "text": [
      "INFO:__main__:Hello!!!!\n"
     ]
    }
   ],
   "source": [
    "logger = logging.getLogger(__name__)\n",
    "logger.setLevel(logging.INFO)\n",
    "\n",
    "logfile = time.strftime(\"%Y-%m-%d_%H:%M:%S\" + \".log\")\n",
    "\n",
    "# create a file handler\n",
    "handler = logging.FileHandler(logfile)\n",
    "handler.setLevel(logging.INFO)\n",
    "# create a logging format\n",
    "formatter = logging.Formatter('%(asctime)s - %(name)s - %(levelname)s - %(message)s')\n",
    "handler.setFormatter(formatter)\n",
    "# add the handlers to the logger\n",
    "logger.addHandler(handler)\n",
    "\n",
    "logger.info('Hello!!!!')"
   ]
  },
  {
   "cell_type": "code",
   "execution_count": 3,
   "metadata": {
    "collapsed": false
   },
   "outputs": [],
   "source": [
    "# create connection to Amazon s3\n",
    "client = boto3.client('s3',\n",
    "                      aws_access_key_id=AWSAccess, \n",
    "                      aws_secret_access_key=AWSSecret)\n",
    "s3 = boto3.resource('s3',\n",
    "                   aws_access_key_id=AWSAccess, \n",
    "                      aws_secret_access_key=AWSSecret)"
   ]
  },
  {
   "cell_type": "code",
   "execution_count": 4,
   "metadata": {
    "collapsed": false
   },
   "outputs": [],
   "source": [
    "import botocore\n",
    "import fnmatch\n",
    "import sys\n",
    "\n",
    "BucketName = 'Team10_NV_Assignment1'\n",
    "bucket = s3.Bucket(BucketName)\n",
    "rawfilename = ''\n",
    "\n",
    "# find the newest raw file in bucket and download the file to local system\n",
    "for obj in bucket.objects.all():\n",
    "    if fnmatch.fnmatch(obj.key, '*_WBAN_53138.csv'):\n",
    "        if obj.key > rawfilename:\n",
    "            rawfilename = obj.key\n",
    "if rawfilename == '':\n",
    "    logger.info('the raw data does not exist! errors!')\n",
    "    sys.exit(\"the raw data does not exist! errors!\")\n",
    "cleanfilename = state + '_' + time.strftime(\"%d%m%Y\") + '_WBAN_53138_clean.csv'\n"
   ]
  },
  {
   "cell_type": "code",
   "execution_count": 5,
   "metadata": {
    "collapsed": true
   },
   "outputs": [],
   "source": [
    "# clean data in file (cleanfilename)\n"
   ]
  },
  {
   "cell_type": "code",
   "execution_count": 6,
   "metadata": {
    "collapsed": false
   },
   "outputs": [
    {
     "name": "stderr",
     "output_type": "stream",
     "text": [
      "INFO:__main__:NV_22062017_WBAN_53138_clean.csv does not exist in bucket\n",
      "INFO:__main__:Downloading raw file from bucket to local system\n",
      "INFO:__main__:Cleaning data!\n",
      "INFO:__main__:upload cleaned file to bucket\n"
     ]
    }
   ],
   "source": [
    "# check clean file exists or not\n",
    "flag = False\n",
    "for obj in bucket.objects.all():\n",
    "    if obj.key == cleanfilename:\n",
    "        flag = True\n",
    "\n",
    "# if it exists  do not do anything\n",
    "# if it does not exist just upload the file\n",
    "if flag == False:\n",
    "    logger.info(cleanfilename + ' does not exist in bucket')\n",
    "    s3.meta.client.download_file(BucketName, rawfilename, cleanfilename)\n",
    "    logger.info('Downloading raw file from bucket to local system')\n",
    "    #clear data\n",
    "    logger.info('Cleaning data!')\n",
    "    \n",
    "    s3.meta.client.upload_file(cleanfilename, BucketName, cleanfilename)\n",
    "    logger.info('upload cleaned file to bucket')\n",
    "else:\n",
    "    logger.info(cleanfilename + 'exist in bucket!')\n",
    "# delete the old one\n",
    "# oldfile = ''\n",
    "# for obj in bucket.objects.all():\n",
    "#     if fnmatch.fnmatch(obj.key, '*_WBAN_53138_clean.csv'):\n",
    "#         oldfile = obj.key\n",
    "# print(oldfile)\n",
    "# client.delete_object(Bucket=BucketName, Key=oldfile)\n",
    "\n",
    "# upload new file\n"
   ]
  },
  {
   "cell_type": "code",
   "execution_count": 7,
   "metadata": {
    "collapsed": true
   },
   "outputs": [],
   "source": [
    "# update links in json\n",
    "data['rawData'] = 'https://s3.amazonaws.com/' + BucketName + '/' + rawfilename\n",
    "data['cleanData'] = 'https://s3.amazonaws.com/' + BucketName + '/' + cleanfilename\n",
    "with open(filename, \"w\") as jsonFile:\n",
    "    json.dump(data, jsonFile)"
   ]
  }
 ],
 "metadata": {
  "kernelspec": {
   "display_name": "Python 3",
   "language": "python",
   "name": "python3"
  },
  "language_info": {
   "codemirror_mode": {
    "name": "ipython",
    "version": 3
   },
   "file_extension": ".py",
   "mimetype": "text/x-python",
   "name": "python",
   "nbconvert_exporter": "python",
   "pygments_lexer": "ipython3",
   "version": "3.4.3"
  }
 },
 "nbformat": 4,
 "nbformat_minor": 0
}
