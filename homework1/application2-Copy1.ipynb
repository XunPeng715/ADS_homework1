{
 "cells": [
  {
   "cell_type": "code",
   "execution_count": 6,
   "metadata": {
    "collapsed": false
   },
   "outputs": [
    {
     "name": "stderr",
     "output_type": "stream",
     "text": [
      "INFO:__main__:Hello!!!!\n"
     ]
    },
    {
     "name": "stdout",
     "output_type": "stream",
     "text": [
      "NV_23062017_WBAN_53138.csv\n"
     ]
    },
    {
     "name": "stderr",
     "output_type": "stream",
     "text": [
      "/opt/ds/lib/python3.4/site-packages/urllib3/connectionpool.py:852: InsecureRequestWarning: Unverified HTTPS request is being made. Adding certificate verification is strongly advised. See: https://urllib3.readthedocs.io/en/latest/advanced-usage.html#ssl-warnings\n",
      "  InsecureRequestWarning)\n"
     ]
    }
   ],
   "source": [
    "import json\n",
    "import urllib.request\n",
    "import urllib3\n",
    "import time\n",
    "from datetime import timedelta\n",
    "import boto3\n",
    "import logging\n",
    "\n",
    "json_data = open('config.json')\n",
    "j_obj = json.load(json_data)\n",
    "\n",
    "state = j_obj['state']\n",
    "team = j_obj['team']\n",
    "link = j_obj['link']\n",
    "AWSAccess = j_obj['AWSAccess']\n",
    "AWSSecret = j_obj['AWSSecret']\n",
    "email = j_obj['notificationEmail']\n",
    "\n",
    "\n",
    "logger = logging.getLogger(__name__)\n",
    "logger.setLevel(logging.INFO)\n",
    "\n",
    "logfile = time.strftime(\"%Y-%m-%d_%H:%M:%S\" + \".log\")\n",
    "\n",
    "# create a file handler\n",
    "handler = logging.FileHandler(logfile)\n",
    "handler.setLevel(logging.INFO)\n",
    "# create a logging format\n",
    "formatter = logging.Formatter('%(asctime)s - %(name)s - %(levelname)s - %(message)s')\n",
    "handler.setFormatter(formatter)\n",
    "# add the handlers to the logger\n",
    "logger.addHandler(handler)\n",
    "\n",
    "logger.info('Hello!!!!')\n",
    "\n",
    "filename = state + '_' + time.strftime(\"%d%m%Y\") + '_WBAN_53138.csv'\n",
    "# filename = state + '_' + time.strftime(\"%d%m%Y\") + '_WBAN_53138.csv'\n",
    "print(filename)\n",
    "\n",
    "\n",
    "http = urllib3.PoolManager()\n",
    "response = http.request('GET', link)\n",
    "with open(filename, 'wb') as f:\n",
    "    f.write(response.data)\n",
    "\n",
    "\n",
    "with open('link.json', \"r\") as jsonFile:\n",
    "    data = json.load(jsonFile)\n",
    "\n",
    "data[filename] = link\n",
    "\n",
    "with open('link.json', 'w') as json_file:\n",
    "    json.dump(data, json_file)\n"
   ]
  },
  {
   "cell_type": "code",
   "execution_count": 7,
   "metadata": {
    "collapsed": false
   },
   "outputs": [
    {
     "name": "stderr",
     "output_type": "stream",
     "text": [
      "INFO:__main__:Creating connection to Amazon s3!\n"
     ]
    }
   ],
   "source": [
    "# create connection to Amazon s3\n",
    "logger.info('Creating connection to Amazon s3!')\n",
    "client = boto3.client('s3',\n",
    "                      aws_access_key_id=AWSAccess, \n",
    "                      aws_secret_access_key=AWSSecret)\n",
    "s3 = boto3.resource('s3',\n",
    "                   aws_access_key_id=AWSAccess, \n",
    "                      aws_secret_access_key=AWSSecret)"
   ]
  },
  {
   "cell_type": "code",
   "execution_count": 8,
   "metadata": {
    "collapsed": false
   },
   "outputs": [],
   "source": [
    "import botocore\n",
    "BucketName = 'Team10_NV_Assignment1'\n",
    "bucket = s3.Bucket(BucketName)\n",
    "exists = True\n",
    "try:\n",
    "    s3.meta.client.head_bucket(Bucket=BucketName)\n",
    "except botocore.exceptions.ClientError as e:\n",
    "    error_code = int(e.response['Error']['Code'])\n",
    "    if error_code == 404:\n",
    "        logger.info(BucketName + \" does not exist!\")\n",
    "        exists = False\n",
    "    else:\n",
    "        logger.info(BucketName + \" exists!\")\n",
    "if exists == False:\n",
    "    logger.info(\"Creating \" + BucketName)\n",
    "    client.create_bucket(Bucket=BucketName)"
   ]
  },
  {
   "cell_type": "code",
   "execution_count": 9,
   "metadata": {
    "collapsed": false
   },
   "outputs": [
    {
     "name": "stderr",
     "output_type": "stream",
     "text": [
      "INFO:__main__:NV_23062017_WBAN_53138.csv does not exists!\n",
      "INFO:__main__:Uploading file!\n",
      "INFO:__main__:Downloading NV_23062017_WBAN_53138.csv\n"
     ]
    }
   ],
   "source": [
    "import fnmatch\n",
    "import pandas as pd\n",
    "import urllib.request\n",
    "import os\n",
    "\n",
    "s3 = boto3.resource('s3',\n",
    "                   aws_access_key_id=AWSAccess, \n",
    "                      aws_secret_access_key=AWSSecret)\n",
    "flag = False\n",
    "oldfilecount = 0\n",
    "oldfilename = ''\n",
    "bucket = s3.Bucket(BucketName)\n",
    "for obj in bucket.objects.all():\n",
    "    if fnmatch.fnmatch(obj.key, '*_WBAN_53138.csv'):\n",
    "        oldfilecount += 1\n",
    "        if obj.key > oldfilename:\n",
    "            oldfilename = obj.key       \n",
    "        \n",
    "    if obj.key == filename:\n",
    "        logger.info(filename + ' already exists!')\n",
    "        flag = True\n",
    "        \n",
    "# file does not exist(1. no raw file 2. one old raw file)\n",
    "if flag == False and oldfilecount == 0:\n",
    "    logger.info(filename + ' does not exists!')\n",
    "    logger.info('Uploading file!')\n",
    "    s3.meta.client.upload_file(filename, BucketName, filename)\n",
    "#2. one old raw file merge new file with old file\n",
    "elif flag == False and oldfilecount > 0:\n",
    "    oldfile = pd.read_csv(oldfilename)\n",
    "    newfile = pd.read_csv(filename)\n",
    "    file = pd.concat([oldfile, newfile])\n",
    "    file.to_csv(filename, sep='\\t')\n",
    "    s3.meta.client.upload_file(filename, BucketName, filename)\n",
    "    \n",
    "elif flag == True:\n",
    "    print(filename + ' is existing!')\n",
    "    \n",
    "# download file to jupyter file system\n",
    "logger.info('Downloading ' + filename)\n",
    "os.remove(filename)\n",
    "s3.meta.client.download_file(BucketName, filename, filename)"
   ]
  },
  {
   "cell_type": "code",
   "execution_count": 10,
   "metadata": {
    "collapsed": true
   },
   "outputs": [],
   "source": [
    "# filename = 'config.json'\n",
    "\n",
    "# with open(filename, \"r\") as jsonFile:\n",
    "#     data = json.load(jsonFile)\n",
    "# data['link'] = \"https://www.ncei.noaa.gov/orders/cdo/996880.csv\"\n",
    "# with open(filename, \"w\") as jsonFile:\n",
    "#     json.dump(data, jsonFile)"
   ]
  }
 ],
 "metadata": {
  "kernelspec": {
   "display_name": "Python 3",
   "language": "python",
   "name": "python3"
  },
  "language_info": {
   "codemirror_mode": {
    "name": "ipython",
    "version": 3
   },
   "file_extension": ".py",
   "mimetype": "text/x-python",
   "name": "python",
   "nbconvert_exporter": "python",
   "pygments_lexer": "ipython3",
   "version": "3.4.3"
  }
 },
 "nbformat": 4,
 "nbformat_minor": 0
}
